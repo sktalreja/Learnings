{
 "cells": [
  {
   "cell_type": "markdown",
   "id": "ee158ec3",
   "metadata": {},
   "source": [
    "# Let's learn Classes"
   ]
  },
  {
   "cell_type": "code",
   "execution_count": 66,
   "id": "c87915d0",
   "metadata": {},
   "outputs": [],
   "source": [
    "# let's define the class\n",
    "\n",
    "import turtle #import turtle library to draw the shapes\n",
    "\n",
    "class polygon:\n",
    "    def __init__(self,sides,name,size = 100, color = \"black\", line_thickness = 3):\n",
    "        self.sides = sides\n",
    "        self.name  = name\n",
    "        self.size  = size\n",
    "        self.color = color \n",
    "        self.line_thickness = line_thickness\n",
    "        self.interior_angles = (self.sides - 2) * 180\n",
    "        self.angle = self.interior_angles / self.sides\n",
    "        \n",
    "    def draw(self):\n",
    "        turtle.color(self.color)\n",
    "        turtle.pensize(self.line_thickness)\n",
    "        for i in range(self.sides):\n",
    "            turtle.forward(self.size )\n",
    "            turtle.right(180-self.angle)\n",
    "        turtle.done()    \n",
    "        "
   ]
  },
  {
   "cell_type": "code",
   "execution_count": 53,
   "id": "4e606efa",
   "metadata": {},
   "outputs": [
    {
     "name": "stdout",
     "output_type": "stream",
     "text": [
      "4\n",
      "square\n",
      "5\n",
      "pentagon\n"
     ]
    }
   ],
   "source": [
    "# Define the first Object\n",
    "\n",
    "square = polygon(4, \"square\", 60, \"Red\", 2)\n",
    "pentagon = polygon(5, \"pentagon\", 150, \"Blue\", 4)\n",
    "\n",
    "print(square.sides)\n",
    "print(square.name)\n",
    "\n",
    "print(pentagon.sides)\n",
    "print(pentagon.name)\n"
   ]
  },
  {
   "cell_type": "code",
   "execution_count": 58,
   "id": "b1626364",
   "metadata": {},
   "outputs": [],
   "source": [
    "pentagon.draw()"
   ]
  },
  {
   "cell_type": "code",
   "execution_count": 54,
   "id": "6768c1a6",
   "metadata": {},
   "outputs": [],
   "source": [
    "square.draw()"
   ]
  },
  {
   "cell_type": "code",
   "execution_count": 67,
   "id": "476c2320",
   "metadata": {},
   "outputs": [
    {
     "name": "stdout",
     "output_type": "stream",
     "text": [
      "4\n"
     ]
    }
   ],
   "source": [
    "# Inheritance\n",
    "class Square(polygon):\n",
    "    def __init__(self,size = 100, color = \"black\", line_thickness = 3):\n",
    "        super().__init__(4,\"Square\",size,color,line_thickness)\n",
    "\n",
    "            \n",
    "square = Square()\n",
    "print(square.sides)\n",
    "square.draw()"
   ]
  }
 ],
 "metadata": {
  "kernelspec": {
   "display_name": "Python 3 (ipykernel)",
   "language": "python",
   "name": "python3"
  },
  "language_info": {
   "codemirror_mode": {
    "name": "ipython",
    "version": 3
   },
   "file_extension": ".py",
   "mimetype": "text/x-python",
   "name": "python",
   "nbconvert_exporter": "python",
   "pygments_lexer": "ipython3",
   "version": "3.11.5"
  }
 },
 "nbformat": 4,
 "nbformat_minor": 5
}
